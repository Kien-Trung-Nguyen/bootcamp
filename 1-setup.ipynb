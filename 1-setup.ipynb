{
 "cells": [
  {
   "cell_type": "markdown",
   "id": "2c160c9c-a445-493e-9948-7ba507c606fb",
   "metadata": {},
   "source": [
    "# Running bash commands from your notebook\n",
    "\n",
    "First, let's install all the dependencies. \n",
    "\n",
    "You can directly run bash commands in your notebook, by either prefixing your commands with an exclamation mark `!`:\n",
    "```ipython\n",
    "[1] !echo \"this is a bash command\"\n",
    "this is a bash command\n",
    "\n",
    "[2] !ls\n",
    "/home/user/git_repos/FNO_workshop\n",
    "```\n",
    "\n",
    "or by starting your cell with the `%%bash` ipython magic. \n",
    "\n",
    "Let's see a simple example:"
   ]
  },
  {
   "cell_type": "code",
   "execution_count": 1,
   "id": "24e20734-97e5-4295-9952-d67ac36b63a0",
   "metadata": {},
   "outputs": [
    {
     "name": "stdout",
     "output_type": "stream",
     "text": [
      "hello\n",
      "world\n"
     ]
    }
   ],
   "source": [
    "%%bash\n",
    "\n",
    "for var in hello world\n",
    "do\n",
    "  echo ${var} \n",
    "done"
   ]
  },
  {
   "cell_type": "markdown",
   "id": "5b47acb6-a558-40bf-bd76-872941fdf879",
   "metadata": {},
   "source": [
    "# Installing the dependencies\n",
    "\n",
    "Now, let's install the dependencies."
   ]
  },
  {
   "cell_type": "markdown",
   "id": "dd9db720-4b41-4bf8-a3c6-7ad2ebdb2e2d",
   "metadata": {},
   "source": [
    "```bash\n",
    "%%bash \n",
    "\n",
    "target_folder='./temp'\n",
    "[ -d foo ] || mkdir -p ${target_folder}\n",
    "\n",
    "git clone https://github.com/tensorly/tensorly ${target_folder}/tensorly\n",
    "cd ${target_folder}/tensorly\n",
    "pip install -e .\n",
    "\n",
    "git clone https://github.com/tensorly/torch ${target_folder}/torch\n",
    "cd ${target_folder}/torch\n",
    "pip install -e .\n",
    "\n",
    "git clone https://github.com/NeuralOperator/neuraloperator ${target_folder}/neuraloperator\n",
    "cd ${target_folder}/neuraloperator\n",
    "pip install -e .\n",
    "```"
   ]
  },
  {
   "cell_type": "code",
   "execution_count": null,
   "id": "e0bb548e-6e98-4fac-935e-52a8115c4aac",
   "metadata": {},
   "outputs": [],
   "source": [
    "!pip install gpustat\n",
    "!pip install gdown\n",
    "!pip install h5py wandb ruamel.yaml"
   ]
  },
  {
   "cell_type": "markdown",
   "id": "8f90ca92-80fe-41c7-ac10-603b6e33485a",
   "metadata": {},
   "source": [
    "# Test you have everything installed"
   ]
  },
  {
   "cell_type": "code",
   "execution_count": 2,
   "id": "1a36273f-f89a-4ed3-b31d-fcfe6fe9d153",
   "metadata": {},
   "outputs": [
    {
     "name": "stdout",
     "output_type": "stream",
     "text": [
      "tl.__version__='0.8.0'\n",
      "tltorch.__version__='0.3.0'\n",
      "no.__version__='0.1.0'\n"
     ]
    }
   ],
   "source": [
    "import tensorly as tl\n",
    "import tltorch\n",
    "import neuralop as no\n",
    "\n",
    "print(f'{tl.__version__=}')\n",
    "print(f'{tltorch.__version__=}')\n",
    "print(f'{no.__version__=}')"
   ]
  }
 ],
 "metadata": {
  "kernelspec": {
   "display_name": "Python 3 (ipykernel)",
   "language": "python",
   "name": "python3"
  },
  "language_info": {
   "codemirror_mode": {
    "name": "ipython",
    "version": 3
   },
   "file_extension": ".py",
   "mimetype": "text/x-python",
   "name": "python",
   "nbconvert_exporter": "python",
   "pygments_lexer": "ipython3",
   "version": "3.9.15"
  }
 },
 "nbformat": 4,
 "nbformat_minor": 5
}
