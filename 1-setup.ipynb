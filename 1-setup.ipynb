{
 "cells": [
  {
   "cell_type": "markdown",
   "id": "2c160c9c-a445-493e-9948-7ba507c606fb",
   "metadata": {},
   "source": [
    "# Running bash commands from your notebook\n",
    "\n",
    "First, let's install all the dependencies. \n",
    "\n",
    "You can directly run bash commands in your notebook, by either prefixing your commands with an exclamation mark `!`:\n",
    "```ipython\n",
    "[1] !echo \"this is a bash command\"\n",
    "this is a bash command\n",
    "\n",
    "[2] !ls\n",
    "/home/user/git_repos/FNO_workshop\n",
    "```\n",
    "\n",
    "or by starting your cell with the `%%bash` ipython magic. \n",
    "\n",
    "Let's see a simple example:"
   ]
  },
  {
   "cell_type": "code",
   "execution_count": 3,
   "id": "24e20734-97e5-4295-9952-d67ac36b63a0",
   "metadata": {},
   "outputs": [
    {
     "name": "stdout",
     "output_type": "stream",
     "text": [
      "Couldn't find program: 'bash'\n"
     ]
    }
   ],
   "source": [
    "%%bash\n",
    "\n",
    "for var in hello world\n",
    "do\n",
    "  echo ${var} \n",
    "done"
   ]
  },
  {
   "cell_type": "markdown",
   "id": "5b47acb6-a558-40bf-bd76-872941fdf879",
   "metadata": {},
   "source": [
    "# Installing the dependencies\n",
    "\n",
    "Now, let's install the dependencies."
   ]
  },
  {
   "cell_type": "code",
   "execution_count": 4,
   "id": "bcce1c3e-b4d7-44ea-8b98-bce1f04182cf",
   "metadata": {},
   "outputs": [
    {
     "name": "stdout",
     "output_type": "stream",
     "text": [
      "Couldn't find program: 'bash'\n"
     ]
    }
   ],
   "source": [
    "%%bash \n",
    "\n",
    "target_folder='./temp'\n",
    "[ -d ${target_folder} ] || mkdir -p ${target_folder}\n",
    "cd temp\n",
    "\n",
    "git clone https://github.com/tensorly/tensorly \n",
    "cd tensorly\n",
    "python -m pip install -e .\n",
    "cd ..\n",
    "\n",
    "git clone https://github.com/tensorly/torch\n",
    "cd torch\n",
    "python -m pip install -e .\n",
    "cd ..\n",
    "\n",
    "git clone https://github.com/NeuralOperator/neuraloperator\n",
    "cd neuraloperator\n",
    "python -m pip install -e ."
   ]
  },
  {
   "cell_type": "code",
   "execution_count": 5,
   "id": "e0bb548e-6e98-4fac-935e-52a8115c4aac",
   "metadata": {},
   "outputs": [
    {
     "name": "stdout",
     "output_type": "stream",
     "text": [
      "Collecting gpustat\n",
      "  Downloading gpustat-1.0.0.tar.gz (90 kB)\n",
      "Requirement already satisfied: six>=1.7 in c:\\users\\devzh\\anaconda3\\lib\\site-packages (from gpustat) (1.16.0)\n",
      "Collecting nvidia-ml-py<=11.495.46,>=11.450.129\n",
      "  Downloading nvidia_ml_py-11.495.46-py3-none-any.whl (25 kB)\n",
      "Requirement already satisfied: psutil>=5.6.0 in c:\\users\\devzh\\anaconda3\\lib\\site-packages (from gpustat) (5.8.0)\n",
      "Collecting blessed>=1.17.1\n",
      "  Downloading blessed-1.20.0-py2.py3-none-any.whl (58 kB)\n",
      "Collecting jinxed>=1.1.0\n",
      "  Downloading jinxed-1.2.0-py2.py3-none-any.whl (33 kB)\n",
      "Requirement already satisfied: wcwidth>=0.1.4 in c:\\users\\devzh\\anaconda3\\lib\\site-packages (from blessed>=1.17.1->gpustat) (0.2.5)\n",
      "Collecting ansicon\n",
      "  Downloading ansicon-1.89.0-py2.py3-none-any.whl (63 kB)\n",
      "Building wheels for collected packages: gpustat\n",
      "  Building wheel for gpustat (setup.py): started\n",
      "  Building wheel for gpustat (setup.py): finished with status 'done'\n",
      "  Created wheel for gpustat: filename=gpustat-1.0.0-py3-none-any.whl size=19886 sha256=647135e0be6c489fa67d18d54e79c7dca544dfd5496efe4d20129d52a8c8803f\n",
      "  Stored in directory: c:\\users\\devzh\\appdata\\local\\pip\\cache\\wheels\\1b\\ed\\14\\0d513c962b25da841c42022cb5847c2ef835902c8563b8fb01\n",
      "Successfully built gpustat\n",
      "Installing collected packages: ansicon, jinxed, nvidia-ml-py, blessed, gpustat\n",
      "Successfully installed ansicon-1.89.0 blessed-1.20.0 gpustat-1.0.0 jinxed-1.2.0 nvidia-ml-py-11.495.46\n",
      "Collecting gdown\n",
      "  Downloading gdown-4.6.4-py3-none-any.whl (14 kB)\n",
      "Requirement already satisfied: requests[socks] in c:\\users\\devzh\\anaconda3\\lib\\site-packages (from gdown) (2.26.0)\n",
      "Requirement already satisfied: beautifulsoup4 in c:\\users\\devzh\\anaconda3\\lib\\site-packages (from gdown) (4.10.0)\n",
      "Requirement already satisfied: filelock in c:\\users\\devzh\\anaconda3\\lib\\site-packages (from gdown) (3.3.1)\n",
      "Requirement already satisfied: six in c:\\users\\devzh\\anaconda3\\lib\\site-packages (from gdown) (1.16.0)\n",
      "Requirement already satisfied: tqdm in c:\\users\\devzh\\anaconda3\\lib\\site-packages (from gdown) (4.62.3)\n",
      "Requirement already satisfied: soupsieve>1.2 in c:\\users\\devzh\\anaconda3\\lib\\site-packages (from beautifulsoup4->gdown) (2.2.1)\n",
      "Requirement already satisfied: charset-normalizer~=2.0.0 in c:\\users\\devzh\\anaconda3\\lib\\site-packages (from requests[socks]->gdown) (2.0.4)\n",
      "Requirement already satisfied: urllib3<1.27,>=1.21.1 in c:\\users\\devzh\\anaconda3\\lib\\site-packages (from requests[socks]->gdown) (1.26.7)\n",
      "Requirement already satisfied: certifi>=2017.4.17 in c:\\users\\devzh\\anaconda3\\lib\\site-packages (from requests[socks]->gdown) (2021.10.8)\n",
      "Requirement already satisfied: idna<4,>=2.5 in c:\\users\\devzh\\anaconda3\\lib\\site-packages (from requests[socks]->gdown) (3.2)\n",
      "Requirement already satisfied: PySocks!=1.5.7,>=1.5.6 in c:\\users\\devzh\\anaconda3\\lib\\site-packages (from requests[socks]->gdown) (1.7.1)\n",
      "Requirement already satisfied: colorama in c:\\users\\devzh\\anaconda3\\lib\\site-packages (from tqdm->gdown) (0.4.4)\n",
      "Installing collected packages: gdown\n",
      "Successfully installed gdown-4.6.4\n",
      "Requirement already satisfied: opt-einsum in c:\\users\\devzh\\anaconda3\\lib\\site-packages (3.3.0)\n",
      "Requirement already satisfied: numpy>=1.7 in c:\\users\\devzh\\anaconda3\\lib\\site-packages (from opt-einsum) (1.21.2)\n",
      "Requirement already satisfied: h5py in c:\\users\\devzh\\anaconda3\\lib\\site-packages (3.6.0)\n",
      "Requirement already satisfied: wandb in c:\\users\\devzh\\anaconda3\\lib\\site-packages (0.12.1)\n",
      "Requirement already satisfied: ruamel.yaml in c:\\users\\devzh\\anaconda3\\lib\\site-packages (0.17.21)\n",
      "Requirement already satisfied: zarr in c:\\users\\devzh\\anaconda3\\lib\\site-packages (2.14.1)\n",
      "Requirement already satisfied: numpy>=1.14.5 in c:\\users\\devzh\\anaconda3\\lib\\site-packages (from h5py) (1.21.2)\n",
      "Requirement already satisfied: Click!=8.0.0,>=7.0 in c:\\users\\devzh\\anaconda3\\lib\\site-packages (from wandb) (8.0.3)\n",
      "Requirement already satisfied: promise<3,>=2.0 in c:\\users\\devzh\\anaconda3\\lib\\site-packages (from wandb) (2.3)\n",
      "Requirement already satisfied: sentry-sdk>=1.0.0 in c:\\users\\devzh\\anaconda3\\lib\\site-packages (from wandb) (1.3.1)\n",
      "Requirement already satisfied: GitPython>=1.0.0 in c:\\users\\devzh\\anaconda3\\lib\\site-packages (from wandb) (3.1.18)\n",
      "Requirement already satisfied: docker-pycreds>=0.4.0 in c:\\users\\devzh\\anaconda3\\lib\\site-packages (from wandb) (0.4.0)\n",
      "Requirement already satisfied: protobuf>=3.12.0 in c:\\users\\devzh\\anaconda3\\lib\\site-packages (from wandb) (3.17.3)\n",
      "Requirement already satisfied: psutil>=5.0.0 in c:\\users\\devzh\\anaconda3\\lib\\site-packages (from wandb) (5.8.0)\n",
      "Requirement already satisfied: subprocess32>=3.5.3 in c:\\users\\devzh\\anaconda3\\lib\\site-packages (from wandb) (3.5.4)\n",
      "Requirement already satisfied: python-dateutil>=2.6.1 in c:\\users\\devzh\\anaconda3\\lib\\site-packages (from wandb) (2.8.2)\n",
      "Requirement already satisfied: shortuuid>=0.5.0 in c:\\users\\devzh\\anaconda3\\lib\\site-packages (from wandb) (1.0.1)\n",
      "Requirement already satisfied: requests<3,>=2.0.0 in c:\\users\\devzh\\anaconda3\\lib\\site-packages (from wandb) (2.26.0)\n",
      "Requirement already satisfied: configparser>=3.8.1 in c:\\users\\devzh\\anaconda3\\lib\\site-packages (from wandb) (5.0.2)\n",
      "Requirement already satisfied: PyYAML in c:\\users\\devzh\\anaconda3\\lib\\site-packages (from wandb) (6.0)\n",
      "Requirement already satisfied: six>=1.13.0 in c:\\users\\devzh\\anaconda3\\lib\\site-packages (from wandb) (1.16.0)\n",
      "Requirement already satisfied: pathtools in c:\\users\\devzh\\anaconda3\\lib\\site-packages (from wandb) (0.1.2)\n",
      "Requirement already satisfied: ruamel.yaml.clib>=0.2.6 in c:\\users\\devzh\\anaconda3\\lib\\site-packages (from ruamel.yaml) (0.2.7)\n",
      "Requirement already satisfied: asciitree in c:\\users\\devzh\\anaconda3\\lib\\site-packages (from zarr) (0.3.3)\n",
      "Requirement already satisfied: numcodecs>=0.10.0 in c:\\users\\devzh\\anaconda3\\lib\\site-packages (from zarr) (0.11.0)\n",
      "Requirement already satisfied: fasteners in c:\\users\\devzh\\anaconda3\\lib\\site-packages (from zarr) (0.18)\n",
      "Requirement already satisfied: colorama in c:\\users\\devzh\\anaconda3\\lib\\site-packages (from Click!=8.0.0,>=7.0->wandb) (0.4.4)\n",
      "Requirement already satisfied: gitdb<5,>=4.0.1 in c:\\users\\devzh\\anaconda3\\lib\\site-packages (from GitPython>=1.0.0->wandb) (4.0.7)\n",
      "Requirement already satisfied: smmap<5,>=3.0.1 in c:\\users\\devzh\\anaconda3\\lib\\site-packages (from gitdb<5,>=4.0.1->GitPython>=1.0.0->wandb) (4.0.0)\n",
      "Requirement already satisfied: entrypoints in c:\\users\\devzh\\anaconda3\\lib\\site-packages (from numcodecs>=0.10.0->zarr) (0.3)\n",
      "Requirement already satisfied: urllib3<1.27,>=1.21.1 in c:\\users\\devzh\\anaconda3\\lib\\site-packages (from requests<3,>=2.0.0->wandb) (1.26.7)\n",
      "Requirement already satisfied: charset-normalizer~=2.0.0 in c:\\users\\devzh\\anaconda3\\lib\\site-packages (from requests<3,>=2.0.0->wandb) (2.0.4)\n",
      "Requirement already satisfied: certifi>=2017.4.17 in c:\\users\\devzh\\anaconda3\\lib\\site-packages (from requests<3,>=2.0.0->wandb) (2021.10.8)\n",
      "Requirement already satisfied: idna<4,>=2.5 in c:\\users\\devzh\\anaconda3\\lib\\site-packages (from requests<3,>=2.0.0->wandb) (3.2)\n"
     ]
    }
   ],
   "source": [
    "!pip install gpustat\n",
    "!pip install gdown\n",
    "!pip install opt-einsum\n",
    "!pip install h5py wandb ruamel.yaml zarr"
   ]
  },
  {
   "attachments": {},
   "cell_type": "markdown",
   "id": "f4ed3b9d-fffd-4d5d-852c-7dc95dad086f",
   "metadata": {},
   "source": [
    "# Prepare data "
   ]
  },
  {
   "cell_type": "code",
   "execution_count": 10,
   "id": "3a2484ab-0f02-45c9-acce-cb0bbe803dbb",
   "metadata": {},
   "outputs": [],
   "source": [
    "import os\n",
    "import requests\n",
    "import hashlib\n",
    "url_dict = {\n",
    "    'darcyflow-1':'https://caltech-pde-data.s3.us-west-2.amazonaws.com/piececonst_r241_N1024_smooth1.mat', \n",
    "    'darcyflow-2': 'https://caltech-pde-data.s3.us-west-2.amazonaws.com/piececonst_r241_N1024_smooth2.mat', \n",
    "    'Navier-Stokes': 'https://caltech-pde-data.s3.us-west-2.amazonaws.com/ns_V1e-3_N5000_T50.mat', \n",
    "    'darcy-test-32': 'https://caltech-pde-data.s3.us-west-2.amazonaws.com/darcy_test_32.pt', \n",
    "    'darcy-test-64': 'https://caltech-pde-data.s3.us-west-2.amazonaws.com/darcy_test_64.pt', \n",
    "    'darcy-train-32': 'https://caltech-pde-data.s3.us-west-2.amazonaws.com/darcy_train_32.pt', \n",
    "    'darcy-train-64': 'https://caltech-pde-data.s3.us-west-2.amazonaws.com/darcy_train_64.pt', \n",
    "    'KF-Re100': 'https://caltech-pde-data.s3.us-west-2.amazonaws.com/KFvorticity_Re100_N50_T500.npy'\n",
    "}\n",
    "\n",
    "chksum_dict = {\n",
    "    'piececonst_r241_N1024_smooth1.mat': '5ab3edf67bb5fd6d49ebf308cd79ed70340106d1a18af8a8439d3e7fc8e82d21', \n",
    "    'piececonst_r241_N1024_smooth2.mat': '51a818ed2e4f08752eea5d3f137f0e00271589c48297a46c641382a51eb80acf', \n",
    "    'ns_V1e-3_N5000_T50.mat': '78b8d9e83d767dc7050fb8145ee7e7f11e2d18d325bff9abc7f108ec3292ee78', \n",
    "    'darcy_train_64.pt': 'c05770239c91ebf093ea971e4d724008a49c9f21b5363fcf182e80499fae7fb4', \n",
    "    'darcy_train_32.pt': 'b8d8095d3832ed67f55b4a8fcb1970618b4ca2c6fc91aee2fe49b9c9b2c071ae', \n",
    "    'darcy_test_64.pt': '2220bb25c920109e9565a7fc07b675de16d124d563996f6e7256e2faa1fde24f', \n",
    "    'darcy_test_32.pt': '65137910193a553295c26e3d8273761daa44766597f4b34cfb12299fc6e3f311', \n",
    "    'KFvorticity_Re100_N50_T500.npy': '55f5af44a732a7843d631ace6384ac75c787d4fb36765b2e83ce1febb52d5463'\n",
    "}\n",
    "\n",
    "def download_file(url, file_path):\n",
    "    with requests.get(url, stream=True) as r:\n",
    "        r.raise_for_status()\n",
    "        with open(file_path, 'wb') as f:\n",
    "            for chunk in r.iter_content(chunk_size=1024 * 1024 * 1024):\n",
    "                f.write(chunk)\n",
    "    print('Complete')\n"
   ]
  },
  {
   "attachments": {},
   "cell_type": "markdown",
   "id": "d36ba93d",
   "metadata": {},
   "source": [
    "## Download Darcy datasets"
   ]
  },
  {
   "cell_type": "code",
   "execution_count": 7,
   "id": "70b2c9d0-990d-43fd-9a80-7af9dbc8dd64",
   "metadata": {},
   "outputs": [
    {
     "name": "stdout",
     "output_type": "stream",
     "text": [
      "Downloading https://caltech-pde-data.s3.us-west-2.amazonaws.com/darcy_train_64.pt...\n",
      "Complete\n",
      "Downloading https://caltech-pde-data.s3.us-west-2.amazonaws.com/darcy_train_32.pt...\n",
      "Complete\n",
      "Downloading https://caltech-pde-data.s3.us-west-2.amazonaws.com/darcy_test_64.pt...\n",
      "Complete\n",
      "Downloading https://caltech-pde-data.s3.us-west-2.amazonaws.com/darcy_test_32.pt...\n",
      "Complete\n"
     ]
    }
   ],
   "source": [
    "data_root = 'data'\n",
    "darcy_dir = os.path.join(data_root, 'darcy_flow')\n",
    "os.makedirs(darcy_dir, exist_ok=True)\n",
    "\n",
    "day1_data = ['darcy-train-64', 'darcy-train-32', 'darcy-test-64', 'darcy-test-32']\n",
    "\n",
    "for key in day1_data:\n",
    "    value = url_dict[key]\n",
    "    print(f'Downloading {value}...')\n",
    "    filename = os.path.basename(value)\n",
    "    save_path = os.path.join(darcy_dir, filename)\n",
    "    download_file(url=value, file_path=save_path)\n"
   ]
  },
  {
   "cell_type": "code",
   "execution_count": null,
   "id": "db98503a",
   "metadata": {},
   "outputs": [],
   "source": [
    "# verify data integrity\n",
    "for data_file in os.listdir(darcy_dir):\n",
    "    data_path = os.path.join(darcy_dir, data_file)\n",
    "    with open(data_path, 'rb') as f:\n",
    "        data = f.read()\n",
    "        sha256 = hashlib.sha256(data).hexdigest()\n",
    "        if sha256 == chksum_dict[data_file]:\n",
    "            print(f'{data_file} verified!')\n",
    "        else:\n",
    "            print(f'{data_file} verfication failed!')"
   ]
  },
  {
   "attachments": {},
   "cell_type": "markdown",
   "id": "6a5cc551",
   "metadata": {},
   "source": [
    "### Download KF datasets (2d NS)"
   ]
  },
  {
   "cell_type": "code",
   "execution_count": 2,
   "id": "817f3d48",
   "metadata": {},
   "outputs": [
    {
     "name": "stdout",
     "output_type": "stream",
     "text": [
      "Downloading https://caltech-pde-data.s3.us-west-2.amazonaws.com/KFvorticity_Re100_N50_T500.npy to data\\kf\n",
      "Complete\n"
     ]
    }
   ],
   "source": [
    "data_root = 'data'\n",
    "kf_dir = os.path.join(data_root, 'kf')\n",
    "os.makedirs(kf_dir, exist_ok=True)\n",
    "\n",
    "kf_data = ['KF-Re100']\n",
    "for key in kf_data:\n",
    "    value = url_dict[key]\n",
    "    print(f'Downloading {value} to {kf_dir}')\n",
    "    filename = os.path.basename(value)\n",
    "    save_path = os.path.join(kf_dir, filename)\n",
    "    download_file(url=value, file_path=save_path)"
   ]
  },
  {
   "cell_type": "code",
   "execution_count": 11,
   "id": "73acfd3d-23d4-4f02-9bc7-167438ac2de4",
   "metadata": {},
   "outputs": [
    {
     "name": "stdout",
     "output_type": "stream",
     "text": [
      "KFvorticity_Re100_N50_T500.npy verified!\n"
     ]
    }
   ],
   "source": [
    "for data_file in os.listdir(kf_dir):\n",
    "    data_path = os.path.join(kf_dir, data_file)\n",
    "    with open(data_path, 'rb') as f:\n",
    "        data = f.read()\n",
    "        sha256 = hashlib.sha256(data).hexdigest()\n",
    "        if sha256 == chksum_dict[data_file]:\n",
    "            print(f'{data_file} verified!')\n",
    "        else:\n",
    "            print(f'{data_file} verfication failed!')\n"
   ]
  }
 ],
 "metadata": {
  "kernelspec": {
   "display_name": "base",
   "language": "python",
   "name": "python3"
  },
  "language_info": {
   "codemirror_mode": {
    "name": "ipython",
    "version": 3
   },
   "file_extension": ".py",
   "mimetype": "text/x-python",
   "name": "python",
   "nbconvert_exporter": "python",
   "pygments_lexer": "ipython3",
   "version": "3.8.8"
  },
  "vscode": {
   "interpreter": {
    "hash": "95d4b27ba6bfea4a66eebe0e0159b214d32a94d313a7f4c98bd9b87f5ee37cbe"
   }
  }
 },
 "nbformat": 4,
 "nbformat_minor": 5
}
